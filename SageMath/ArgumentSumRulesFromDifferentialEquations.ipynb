{
 "cells": [
  {
   "cell_type": "code",
   "execution_count": 1,
   "id": "egyptian-clone",
   "metadata": {},
   "outputs": [],
   "source": [
    "%display latex"
   ]
  },
  {
   "cell_type": "markdown",
   "id": "public-prairie",
   "metadata": {},
   "source": [
    "<h1>Problem 1: Assuming $\\exists f:\\mathbb{C}\\to\\mathbb{C} \\land \\forall z_0\\in\\mathbb{C},f(z_0)=f''(z_0)$, find a way to express $f(z_0+z_1)$ in a formula using only $f(z_0),f'(z_0),f(z_1),f'(z_1),f(0),f'(0)$</h1>"
   ]
  },
  {
   "cell_type": "markdown",
   "id": "dimensional-parcel",
   "metadata": {},
   "source": [
    "Initialize variables $z_0,z_1,c_0,c_1,a_{00},a_{01}$."
   ]
  },
  {
   "cell_type": "code",
   "execution_count": 3,
   "id": "sticky-mainland",
   "metadata": {},
   "outputs": [],
   "source": [
    "z0, z1, c0, c1, a00, a01 = var('z0, z1, c0, c1, a00, a01')"
   ]
  },
  {
   "cell_type": "markdown",
   "id": "forty-constitutional",
   "metadata": {},
   "source": [
    "Initialize $f$ as a function of $z_0$"
   ]
  },
  {
   "cell_type": "code",
   "execution_count": 4,
   "id": "appointed-chassis",
   "metadata": {},
   "outputs": [],
   "source": [
    "f = function('f')(z0)"
   ]
  },
  {
   "cell_type": "markdown",
   "id": "historic-token",
   "metadata": {},
   "source": [
    "Solve for $f$ where $f''-f=0,f(0)=c_0,f'(0)=c_1$"
   ]
  },
  {
   "cell_type": "code",
   "execution_count": 5,
   "id": "modern-buffer",
   "metadata": {},
   "outputs": [],
   "source": [
    "f = desolve(diff(f,z0,2) - f, [f,z0], ics=[0,c0,c1])"
   ]
  },
  {
   "cell_type": "code",
   "execution_count": 6,
   "id": "right-praise",
   "metadata": {
    "scrolled": false
   },
   "outputs": [
    {
     "data": {
      "text/html": [
       "<html><script type=\"math/tex; mode=display\">\\newcommand{\\Bold}[1]{\\mathbf{#1}}\\frac{1}{2} \\, {\\left(c_{0} - c_{1}\\right)} e^{\\left(-z_{0}\\right)} + \\frac{1}{2} \\, {\\left(c_{0} + c_{1}\\right)} e^{z_{0}}</script></html>"
      ],
      "text/latex": [
       "\\begin{math}\n",
       "\\newcommand{\\Bold}[1]{\\mathbf{#1}}\\frac{1}{2} \\, {\\left(c_{0} - c_{1}\\right)} e^{\\left(-z_{0}\\right)} + \\frac{1}{2} \\, {\\left(c_{0} + c_{1}\\right)} e^{z_{0}}\n",
       "\\end{math}"
      ],
      "text/plain": [
       "1/2*(c0 - c1)*e^(-z0) + 1/2*(c0 + c1)*e^z0"
      ]
     },
     "execution_count": 6,
     "metadata": {},
     "output_type": "execute_result"
    }
   ],
   "source": [
    "f"
   ]
  },
  {
   "cell_type": "markdown",
   "id": "sensitive-reading",
   "metadata": {},
   "source": [
    "Rationality check on initial conditions:"
   ]
  },
  {
   "cell_type": "code",
   "execution_count": 7,
   "id": "advance-jerusalem",
   "metadata": {},
   "outputs": [
    {
     "data": {
      "text/html": [
       "<html><script type=\"math/tex; mode=display\">\\newcommand{\\Bold}[1]{\\mathbf{#1}}\\left[c_{0}, c_{1}\\right]</script></html>"
      ],
      "text/latex": [
       "\\begin{math}\n",
       "\\newcommand{\\Bold}[1]{\\mathbf{#1}}\\left[c_{0}, c_{1}\\right]\n",
       "\\end{math}"
      ],
      "text/plain": [
       "[c0, c1]"
      ]
     },
     "execution_count": 7,
     "metadata": {},
     "output_type": "execute_result"
    }
   ],
   "source": [
    "[f(z0=0), diff(f,z0,1)(z0=0)]"
   ]
  },
  {
   "cell_type": "markdown",
   "id": "personal-subsection",
   "metadata": {},
   "source": [
    "Note that when $z_0$ and $z_1$ are relatively constant, $f(z_0)$, $f(z_0+z_1)$, $f'(z_0+z_1)$ have the same differential equation $f''-f=0$ with respect to the variable $z_0$, yet the 3 functions have different initial conditions."
   ]
  },
  {
   "cell_type": "markdown",
   "id": "stunning-authentication",
   "metadata": {},
   "source": [
    "With this, we know there exists some matrices $A_0,A_1$ such that\n",
    "\n",
    "$$f(z_0+z_1)=\n",
    "\\begin{pmatrix}f(z_0)&f'(z_0)\\end{pmatrix}\n",
    "A_0\n",
    "\\begin{pmatrix}f(z_1)\\\\f'(z_1)\\end{pmatrix}$$\n",
    "\n",
    "$$f'(z_0+z_1)=\n",
    "\\begin{pmatrix}f(z_0)&f'(z_0)\\end{pmatrix}\n",
    "A_1\n",
    "\\begin{pmatrix}f(z_1)\\\\f'(z_1)\\end{pmatrix}$$\n",
    "\n",
    "The matrices can be required to be symmetric; e.g. if $A$ is a solution for $A_n$, then $\\frac{A+A^T}{2}$ is also a solution for $A_n$."
   ]
  },
  {
   "cell_type": "markdown",
   "id": "similar-default",
   "metadata": {},
   "source": [
    "Let $A_0=\\begin{pmatrix}a_{00}&a_{01}\\\\a_{01}&a_{11}\\end{pmatrix}$.\n",
    "We then differentiate and rearrange the first equation to look like the second equation so we can use the symmetry of $A_1$ in the second equation to simplify $A_0$ further.\n",
    "\n",
    "$$f'(z_0+z_1)\n",
    "=\n",
    "\\begin{pmatrix}f'(z_0)&f''(z_0)\\end{pmatrix}\n",
    "\\begin{pmatrix}a_{00}&a_{01}\\\\a_{01}&a_{11}\\end{pmatrix}\n",
    "\\begin{pmatrix}f(z_1)\\\\f'(z_1)\\end{pmatrix}\n",
    "=\n",
    "\\begin{pmatrix}f(z_0)&f'(z_0)\\end{pmatrix}\n",
    "\\begin{pmatrix}a_{01}&a_{11}\\\\a_{00}&a_{01}\\end{pmatrix}\n",
    "\\begin{pmatrix}f(z_1)\\\\f'(z_1)\\end{pmatrix}$$"
   ]
  },
  {
   "cell_type": "markdown",
   "id": "sunrise-father",
   "metadata": {},
   "source": [
    "Thus $a_{00}=a_{11}$, and $A_0=\\begin{pmatrix}a_{00}&a_{01}\\\\a_{01}&a_{00}\\end{pmatrix}$."
   ]
  },
  {
   "cell_type": "markdown",
   "id": "wired-password",
   "metadata": {},
   "source": [
    "We build the parts in SageMath before solving the equation so we can see what is happening easier."
   ]
  },
  {
   "cell_type": "code",
   "execution_count": 8,
   "id": "agricultural-advertiser",
   "metadata": {},
   "outputs": [
    {
     "data": {
      "text/html": [
       "<html><script type=\"math/tex; mode=display\">\\newcommand{\\Bold}[1]{\\mathbf{#1}}\\frac{1}{2} \\, {\\left(c_{0} + c_{1}\\right)} e^{\\left(z_{0} + z_{1}\\right)} + \\frac{1}{2} \\, {\\left(c_{0} - c_{1}\\right)} e^{\\left(-z_{0} - z_{1}\\right)}</script></html>"
      ],
      "text/latex": [
       "\\begin{math}\n",
       "\\newcommand{\\Bold}[1]{\\mathbf{#1}}\\frac{1}{2} \\, {\\left(c_{0} + c_{1}\\right)} e^{\\left(z_{0} + z_{1}\\right)} + \\frac{1}{2} \\, {\\left(c_{0} - c_{1}\\right)} e^{\\left(-z_{0} - z_{1}\\right)}\n",
       "\\end{math}"
      ],
      "text/plain": [
       "1/2*(c0 + c1)*e^(z0 + z1) + 1/2*(c0 - c1)*e^(-z0 - z1)"
      ]
     },
     "execution_count": 8,
     "metadata": {},
     "output_type": "execute_result"
    }
   ],
   "source": [
    "f(z0=z0+z1)"
   ]
  },
  {
   "cell_type": "code",
   "execution_count": 9,
   "id": "equal-newspaper",
   "metadata": {},
   "outputs": [
    {
     "data": {
      "text/html": [
       "<html><script type=\"math/tex; mode=display\">\\newcommand{\\Bold}[1]{\\mathbf{#1}}\\left(\\begin{array}{rr}\n",
       "\\frac{1}{2} \\, {\\left(c_{0} - c_{1}\\right)} e^{\\left(-z_{0}\\right)} + \\frac{1}{2} \\, {\\left(c_{0} + c_{1}\\right)} e^{z_{0}} & -\\frac{1}{2} \\, {\\left(c_{0} - c_{1}\\right)} e^{\\left(-z_{0}\\right)} + \\frac{1}{2} \\, {\\left(c_{0} + c_{1}\\right)} e^{z_{0}}\n",
       "\\end{array}\\right)</script></html>"
      ],
      "text/latex": [
       "\\begin{math}\n",
       "\\newcommand{\\Bold}[1]{\\mathbf{#1}}\\left(\\begin{array}{rr}\n",
       "\\frac{1}{2} \\, {\\left(c_{0} - c_{1}\\right)} e^{\\left(-z_{0}\\right)} + \\frac{1}{2} \\, {\\left(c_{0} + c_{1}\\right)} e^{z_{0}} & -\\frac{1}{2} \\, {\\left(c_{0} - c_{1}\\right)} e^{\\left(-z_{0}\\right)} + \\frac{1}{2} \\, {\\left(c_{0} + c_{1}\\right)} e^{z_{0}}\n",
       "\\end{array}\\right)\n",
       "\\end{math}"
      ],
      "text/plain": [
       "[ 1/2*(c0 - c1)*e^(-z0) + 1/2*(c0 + c1)*e^z0 -1/2*(c0 - c1)*e^(-z0) + 1/2*(c0 + c1)*e^z0]"
      ]
     },
     "execution_count": 9,
     "metadata": {},
     "output_type": "execute_result"
    }
   ],
   "source": [
    "Matrix([f,diff(f,z0)])"
   ]
  },
  {
   "cell_type": "code",
   "execution_count": 10,
   "id": "naughty-volunteer",
   "metadata": {},
   "outputs": [
    {
     "data": {
      "text/html": [
       "<html><script type=\"math/tex; mode=display\">\\newcommand{\\Bold}[1]{\\mathbf{#1}}\\left(\\begin{array}{rr}\n",
       "a_{00} & a_{01} \\\\\n",
       "a_{01} & a_{00}\n",
       "\\end{array}\\right)</script></html>"
      ],
      "text/latex": [
       "\\begin{math}\n",
       "\\newcommand{\\Bold}[1]{\\mathbf{#1}}\\left(\\begin{array}{rr}\n",
       "a_{00} & a_{01} \\\\\n",
       "a_{01} & a_{00}\n",
       "\\end{array}\\right)\n",
       "\\end{math}"
      ],
      "text/plain": [
       "[a00 a01]\n",
       "[a01 a00]"
      ]
     },
     "execution_count": 10,
     "metadata": {},
     "output_type": "execute_result"
    }
   ],
   "source": [
    "Matrix([[a00,a01],[a01,a00]])"
   ]
  },
  {
   "cell_type": "code",
   "execution_count": 11,
   "id": "legal-miracle",
   "metadata": {},
   "outputs": [
    {
     "data": {
      "text/html": [
       "<html><script type=\"math/tex; mode=display\">\\newcommand{\\Bold}[1]{\\mathbf{#1}}\\left(\\begin{array}{r}\n",
       "\\frac{1}{2} \\, {\\left(c_{0} - c_{1}\\right)} e^{\\left(-z_{1}\\right)} + \\frac{1}{2} \\, {\\left(c_{0} + c_{1}\\right)} e^{z_{1}} \\\\\n",
       "-\\frac{1}{2} \\, {\\left(c_{0} - c_{1}\\right)} e^{\\left(-z_{1}\\right)} + \\frac{1}{2} \\, {\\left(c_{0} + c_{1}\\right)} e^{z_{1}}\n",
       "\\end{array}\\right)</script></html>"
      ],
      "text/latex": [
       "\\begin{math}\n",
       "\\newcommand{\\Bold}[1]{\\mathbf{#1}}\\left(\\begin{array}{r}\n",
       "\\frac{1}{2} \\, {\\left(c_{0} - c_{1}\\right)} e^{\\left(-z_{1}\\right)} + \\frac{1}{2} \\, {\\left(c_{0} + c_{1}\\right)} e^{z_{1}} \\\\\n",
       "-\\frac{1}{2} \\, {\\left(c_{0} - c_{1}\\right)} e^{\\left(-z_{1}\\right)} + \\frac{1}{2} \\, {\\left(c_{0} + c_{1}\\right)} e^{z_{1}}\n",
       "\\end{array}\\right)\n",
       "\\end{math}"
      ],
      "text/plain": [
       "[ 1/2*(c0 - c1)*e^(-z1) + 1/2*(c0 + c1)*e^z1]\n",
       "[-1/2*(c0 - c1)*e^(-z1) + 1/2*(c0 + c1)*e^z1]"
      ]
     },
     "execution_count": 11,
     "metadata": {},
     "output_type": "execute_result"
    }
   ],
   "source": [
    "Matrix([[f(z0=z1)],[diff(f,z0)(z0=z1)]])"
   ]
  },
  {
   "cell_type": "code",
   "execution_count": 12,
   "id": "competitive-albuquerque",
   "metadata": {},
   "outputs": [],
   "source": [
    "zero=expand(Matrix([[f(z0=z0+z1)]])-Matrix([f,diff(f,z0)])*Matrix([[a00,a01],[a01,a00]])*Matrix([[f(z0=z1)],[diff(f,z0)(z0=z1)]]))"
   ]
  },
  {
   "cell_type": "code",
   "execution_count": 13,
   "id": "angry-visit",
   "metadata": {},
   "outputs": [
    {
     "data": {
      "text/html": [
       "<html><script type=\"math/tex; mode=display\">\\newcommand{\\Bold}[1]{\\mathbf{#1}}\\left(\\begin{array}{r}\n",
       "-\\frac{1}{2} \\, a_{00} c_{0}^{2} e^{\\left(z_{0} + z_{1}\\right)} - \\frac{1}{2} \\, a_{01} c_{0}^{2} e^{\\left(z_{0} + z_{1}\\right)} - a_{00} c_{0} c_{1} e^{\\left(z_{0} + z_{1}\\right)} - a_{01} c_{0} c_{1} e^{\\left(z_{0} + z_{1}\\right)} - \\frac{1}{2} \\, a_{00} c_{1}^{2} e^{\\left(z_{0} + z_{1}\\right)} - \\frac{1}{2} \\, a_{01} c_{1}^{2} e^{\\left(z_{0} + z_{1}\\right)} - \\frac{1}{2} \\, a_{00} c_{0}^{2} e^{\\left(-z_{0} - z_{1}\\right)} + \\frac{1}{2} \\, a_{01} c_{0}^{2} e^{\\left(-z_{0} - z_{1}\\right)} + a_{00} c_{0} c_{1} e^{\\left(-z_{0} - z_{1}\\right)} - a_{01} c_{0} c_{1} e^{\\left(-z_{0} - z_{1}\\right)} - \\frac{1}{2} \\, a_{00} c_{1}^{2} e^{\\left(-z_{0} - z_{1}\\right)} + \\frac{1}{2} \\, a_{01} c_{1}^{2} e^{\\left(-z_{0} - z_{1}\\right)} + \\frac{1}{2} \\, c_{0} e^{\\left(z_{0} + z_{1}\\right)} + \\frac{1}{2} \\, c_{1} e^{\\left(z_{0} + z_{1}\\right)} + \\frac{1}{2} \\, c_{0} e^{\\left(-z_{0} - z_{1}\\right)} - \\frac{1}{2} \\, c_{1} e^{\\left(-z_{0} - z_{1}\\right)}\n",
       "\\end{array}\\right)</script></html>"
      ],
      "text/latex": [
       "\\begin{math}\n",
       "\\newcommand{\\Bold}[1]{\\mathbf{#1}}\\left(\\begin{array}{r}\n",
       "-\\frac{1}{2} \\, a_{00} c_{0}^{2} e^{\\left(z_{0} + z_{1}\\right)} - \\frac{1}{2} \\, a_{01} c_{0}^{2} e^{\\left(z_{0} + z_{1}\\right)} - a_{00} c_{0} c_{1} e^{\\left(z_{0} + z_{1}\\right)} - a_{01} c_{0} c_{1} e^{\\left(z_{0} + z_{1}\\right)} - \\frac{1}{2} \\, a_{00} c_{1}^{2} e^{\\left(z_{0} + z_{1}\\right)} - \\frac{1}{2} \\, a_{01} c_{1}^{2} e^{\\left(z_{0} + z_{1}\\right)} - \\frac{1}{2} \\, a_{00} c_{0}^{2} e^{\\left(-z_{0} - z_{1}\\right)} + \\frac{1}{2} \\, a_{01} c_{0}^{2} e^{\\left(-z_{0} - z_{1}\\right)} + a_{00} c_{0} c_{1} e^{\\left(-z_{0} - z_{1}\\right)} - a_{01} c_{0} c_{1} e^{\\left(-z_{0} - z_{1}\\right)} - \\frac{1}{2} \\, a_{00} c_{1}^{2} e^{\\left(-z_{0} - z_{1}\\right)} + \\frac{1}{2} \\, a_{01} c_{1}^{2} e^{\\left(-z_{0} - z_{1}\\right)} + \\frac{1}{2} \\, c_{0} e^{\\left(z_{0} + z_{1}\\right)} + \\frac{1}{2} \\, c_{1} e^{\\left(z_{0} + z_{1}\\right)} + \\frac{1}{2} \\, c_{0} e^{\\left(-z_{0} - z_{1}\\right)} - \\frac{1}{2} \\, c_{1} e^{\\left(-z_{0} - z_{1}\\right)}\n",
       "\\end{array}\\right)\n",
       "\\end{math}"
      ],
      "text/plain": [
       "[-1/2*a00*c0^2*e^(z0 + z1) - 1/2*a01*c0^2*e^(z0 + z1) - a00*c0*c1*e^(z0 + z1) - a01*c0*c1*e^(z0 + z1) - 1/2*a00*c1^2*e^(z0 + z1) - 1/2*a01*c1^2*e^(z0 + z1) - 1/2*a00*c0^2*e^(-z0 - z1) + 1/2*a01*c0^2*e^(-z0 - z1) + a00*c0*c1*e^(-z0 - z1) - a01*c0*c1*e^(-z0 - z1) - 1/2*a00*c1^2*e^(-z0 - z1) + 1/2*a01*c1^2*e^(-z0 - z1) + 1/2*c0*e^(z0 + z1) + 1/2*c1*e^(z0 + z1) + 1/2*c0*e^(-z0 - z1) - 1/2*c1*e^(-z0 - z1)]"
      ]
     },
     "execution_count": 13,
     "metadata": {},
     "output_type": "execute_result"
    }
   ],
   "source": [
    "zero"
   ]
  },
  {
   "cell_type": "code",
   "execution_count": 14,
   "id": "saved-result",
   "metadata": {},
   "outputs": [
    {
     "data": {
      "text/html": [
       "<html><script type=\"math/tex; mode=display\">\\newcommand{\\Bold}[1]{\\mathbf{#1}}\\left(\\begin{array}{r}\n",
       "-a_{00} c_{0}^{2} - 2 \\, a_{01} c_{0} c_{1} - a_{00} c_{1}^{2} + c_{0}\n",
       "\\end{array}\\right)</script></html>"
      ],
      "text/latex": [
       "\\begin{math}\n",
       "\\newcommand{\\Bold}[1]{\\mathbf{#1}}\\left(\\begin{array}{r}\n",
       "-a_{00} c_{0}^{2} - 2 \\, a_{01} c_{0} c_{1} - a_{00} c_{1}^{2} + c_{0}\n",
       "\\end{array}\\right)\n",
       "\\end{math}"
      ],
      "text/plain": [
       "[-a00*c0^2 - 2*a01*c0*c1 - a00*c1^2 + c0]"
      ]
     },
     "execution_count": 14,
     "metadata": {},
     "output_type": "execute_result"
    }
   ],
   "source": [
    "zero(z0=0,z1=0)"
   ]
  },
  {
   "cell_type": "code",
   "execution_count": 15,
   "id": "growing-hierarchy",
   "metadata": {},
   "outputs": [
    {
     "data": {
      "text/html": [
       "<html><script type=\"math/tex; mode=display\">\\newcommand{\\Bold}[1]{\\mathbf{#1}}\\left(\\begin{array}{r}\n",
       "-\\frac{1}{2} \\, a_{00} c_{0}^{2} e^{2} - \\frac{1}{2} \\, a_{01} c_{0}^{2} e^{2} - a_{00} c_{0} c_{1} e^{2} - a_{01} c_{0} c_{1} e^{2} - \\frac{1}{2} \\, a_{00} c_{1}^{2} e^{2} - \\frac{1}{2} \\, a_{01} c_{1}^{2} e^{2} - \\frac{1}{2} \\, a_{00} c_{0}^{2} e^{\\left(-2\\right)} + \\frac{1}{2} \\, a_{01} c_{0}^{2} e^{\\left(-2\\right)} + a_{00} c_{0} c_{1} e^{\\left(-2\\right)} - a_{01} c_{0} c_{1} e^{\\left(-2\\right)} - \\frac{1}{2} \\, a_{00} c_{1}^{2} e^{\\left(-2\\right)} + \\frac{1}{2} \\, a_{01} c_{1}^{2} e^{\\left(-2\\right)} + \\frac{1}{2} \\, c_{0} e^{2} + \\frac{1}{2} \\, c_{1} e^{2} + \\frac{1}{2} \\, c_{0} e^{\\left(-2\\right)} - \\frac{1}{2} \\, c_{1} e^{\\left(-2\\right)}\n",
       "\\end{array}\\right)</script></html>"
      ],
      "text/latex": [
       "\\begin{math}\n",
       "\\newcommand{\\Bold}[1]{\\mathbf{#1}}\\left(\\begin{array}{r}\n",
       "-\\frac{1}{2} \\, a_{00} c_{0}^{2} e^{2} - \\frac{1}{2} \\, a_{01} c_{0}^{2} e^{2} - a_{00} c_{0} c_{1} e^{2} - a_{01} c_{0} c_{1} e^{2} - \\frac{1}{2} \\, a_{00} c_{1}^{2} e^{2} - \\frac{1}{2} \\, a_{01} c_{1}^{2} e^{2} - \\frac{1}{2} \\, a_{00} c_{0}^{2} e^{\\left(-2\\right)} + \\frac{1}{2} \\, a_{01} c_{0}^{2} e^{\\left(-2\\right)} + a_{00} c_{0} c_{1} e^{\\left(-2\\right)} - a_{01} c_{0} c_{1} e^{\\left(-2\\right)} - \\frac{1}{2} \\, a_{00} c_{1}^{2} e^{\\left(-2\\right)} + \\frac{1}{2} \\, a_{01} c_{1}^{2} e^{\\left(-2\\right)} + \\frac{1}{2} \\, c_{0} e^{2} + \\frac{1}{2} \\, c_{1} e^{2} + \\frac{1}{2} \\, c_{0} e^{\\left(-2\\right)} - \\frac{1}{2} \\, c_{1} e^{\\left(-2\\right)}\n",
       "\\end{array}\\right)\n",
       "\\end{math}"
      ],
      "text/plain": [
       "[-1/2*a00*c0^2*e^2 - 1/2*a01*c0^2*e^2 - a00*c0*c1*e^2 - a01*c0*c1*e^2 - 1/2*a00*c1^2*e^2 - 1/2*a01*c1^2*e^2 - 1/2*a00*c0^2*e^(-2) + 1/2*a01*c0^2*e^(-2) + a00*c0*c1*e^(-2) - a01*c0*c1*e^(-2) - 1/2*a00*c1^2*e^(-2) + 1/2*a01*c1^2*e^(-2) + 1/2*c0*e^2 + 1/2*c1*e^2 + 1/2*c0*e^(-2) - 1/2*c1*e^(-2)]"
      ]
     },
     "execution_count": 15,
     "metadata": {},
     "output_type": "execute_result"
    }
   ],
   "source": [
    "zero(z0=1,z1=1)"
   ]
  },
  {
   "cell_type": "code",
   "execution_count": 16,
   "id": "south-royalty",
   "metadata": {},
   "outputs": [
    {
     "data": {
      "text/html": [
       "<html><script type=\"math/tex; mode=display\">\\newcommand{\\Bold}[1]{\\mathbf{#1}}\\left[\\left[a_{00} = r_{1}, a_{01} = -\\frac{{\\left(r_{1} e^{2} - r_{1}\\right)} c_{0}^{2} + {\\left(r_{1} e^{2} - r_{1}\\right)} c_{1}^{2} + {\\left(2 \\, {\\left(r_{1} e^{2} + r_{1}\\right)} c_{0} - e^{2} - 1\\right)} c_{1} - c_{0} {\\left(e^{2} - 1\\right)}}{c_{0}^{2} {\\left(e^{2} + 1\\right)} + c_{1}^{2} {\\left(e^{2} + 1\\right)} + 2 \\, c_{0} c_{1} {\\left(e^{2} - 1\\right)}}\\right]\\right]</script></html>"
      ],
      "text/latex": [
       "\\begin{math}\n",
       "\\newcommand{\\Bold}[1]{\\mathbf{#1}}\\left[\\left[a_{00} = r_{1}, a_{01} = -\\frac{{\\left(r_{1} e^{2} - r_{1}\\right)} c_{0}^{2} + {\\left(r_{1} e^{2} - r_{1}\\right)} c_{1}^{2} + {\\left(2 \\, {\\left(r_{1} e^{2} + r_{1}\\right)} c_{0} - e^{2} - 1\\right)} c_{1} - c_{0} {\\left(e^{2} - 1\\right)}}{c_{0}^{2} {\\left(e^{2} + 1\\right)} + c_{1}^{2} {\\left(e^{2} + 1\\right)} + 2 \\, c_{0} c_{1} {\\left(e^{2} - 1\\right)}}\\right]\\right]\n",
       "\\end{math}"
      ],
      "text/plain": [
       "[[a00 == r1, a01 == -((r1*e^2 - r1)*c0^2 + (r1*e^2 - r1)*c1^2 + (2*(r1*e^2 + r1)*c0 - e^2 - 1)*c1 - c0*(e^2 - 1))/(c0^2*(e^2 + 1) + c1^2*(e^2 + 1) + 2*c0*c1*(e^2 - 1))]]"
      ]
     },
     "execution_count": 16,
     "metadata": {},
     "output_type": "execute_result"
    }
   ],
   "source": [
    "solve(-a00*c0^2 - 2*a01*c0*c1 - a00*c1^2 + c0==-1/2*a00*c0^2*e^2 - 1/2*a01*c0^2*e^2 - a00*c0*c1*e^2 - a01*c0*c1*e^2 - 1/2*a00*c1^2*e^2 - 1/2*a01*c1^2*e^2 - 1/2*a00*c0^2*e^(-2) + 1/2*a01*c0^2*e^(-2) + a00*c0*c1*e^(-2) - a01*c0*c1*e^(-2) - 1/2*a00*c1^2*e^(-2) + 1/2*a01*c1^2*e^(-2) + 1/2*c0*e^2 + 1/2*c1*e^2 + 1/2*c0*e^(-2) - 1/2*c1*e^(-2)==0,a00,a01)"
   ]
  },
  {
   "cell_type": "markdown",
   "id": "increased-subject",
   "metadata": {},
   "source": [
    "This seems to be a limitation of the SageMath solve function. Wolfram Cloud works with input\n",
    "\n",
    "<p>Solve[-a00*c0^2 - 2*a01*c0*c1 - a00*c1^2 + c0==-1/2*a00*c0^2*e^2 - 1/2*a01*c0^2*e^2 - a00*c0*c1*e^2 - a01*c0*c1*e^2 - 1/2*a00*c1^2*e^2 - 1/2*a01*c1^2*e^2 - 1/2*a00*c0^2*e^(-2) + 1/2*a01*c0^2*e^(-2) + a00*c0*c1*e^(-2) - a01*c0*c1*e^(-2) - 1/2*a00*c1^2*e^(-2) + 1/2*a01*c1^2*e^(-2) + 1/2*c0*e^2 + 1/2*c1*e^2 + 1/2*c0*e^(-2) - 1/2*c1*e^(-2)==0,{a00,a01}]</p>\n",
    "\n",
    "and produces <p>{{a00->c0/(c0^2-c1^2),a01->-(c1/(c0^2-c1^2))}} </p>"
   ]
  },
  {
   "cell_type": "markdown",
   "id": "automated-phone",
   "metadata": {},
   "source": [
    "Thus we have the result\n",
    "$$f(z_0+z_1)=\n",
    "\\frac{\n",
    "\\begin{pmatrix}f(z_0)&f'(z_0)\\end{pmatrix}\n",
    "\\begin{pmatrix}f(0)&-f'(0)\\\\-f'(0)&f(0)\\end{pmatrix}\n",
    "\\begin{pmatrix}f(z_1)\\\\f'(z_1)\\end{pmatrix}\n",
    "}{f(0)^2-f'(0)^2}$$\n",
    "Thus we have solved the problem... yet we can generalize with the substitutions $\\{z_0\\to z_0-z_2,z_1\\to z_1-z_2,f(z)\\to f(z+z_2)\\}$\n",
    "$$f(z_0+z_1-z_2)=\n",
    "\\frac{\n",
    "\\begin{pmatrix}f(z_0)&f'(z_0)\\end{pmatrix}\n",
    "\\begin{pmatrix}f(z_2)&-f'(z_2)\\\\-f'(z_2)&f(z_2)\\end{pmatrix}\n",
    "\\begin{pmatrix}f(z_1)\\\\f'(z_1)\\end{pmatrix}\n",
    "}{f(z_2)^2-f'(z_2)^2}$$"
   ]
  },
  {
   "cell_type": "code",
   "execution_count": null,
   "id": "unauthorized-frequency",
   "metadata": {},
   "outputs": [],
   "source": []
  }
 ],
 "metadata": {
  "kernelspec": {
   "display_name": "SageMath 9.5",
   "language": "sage",
   "name": "sagemath"
  },
  "language_info": {
   "codemirror_mode": {
    "name": "ipython",
    "version": 3
   },
   "file_extension": ".py",
   "mimetype": "text/x-python",
   "name": "python",
   "nbconvert_exporter": "python",
   "pygments_lexer": "ipython3",
   "version": "3.10.4"
  }
 },
 "nbformat": 4,
 "nbformat_minor": 5
}
